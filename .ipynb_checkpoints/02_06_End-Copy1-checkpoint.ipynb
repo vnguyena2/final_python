{
 "cells": [
  {
   "cell_type": "code",
   "execution_count": 1,
   "metadata": {},
   "outputs": [],
   "source": [
    "import pandas as pd\n",
    "import pandas_datareader as pdr\n",
    "import csv\n",
    "from datetime import datetime,timedelta\n",
    "import os.path\n",
    "import openpyxl "
   ]
  },
  {
   "cell_type": "code",
   "execution_count": 2,
   "metadata": {},
   "outputs": [
    {
     "name": "stdout",
     "output_type": "stream",
     "text": [
      "Enter ticket name: GOLD\n"
     ]
    }
   ],
   "source": [
    "userTicker = input(\"Enter ticket name: \")\n",
    "weekdays = ['Monday', 'Tuesday', 'Wednesday', 'Thursday', 'Friday']\n",
    "#startTemp=datetime.datetime(2020,2,4)"
   ]
  },
  {
   "cell_type": "code",
   "execution_count": 3,
   "metadata": {},
   "outputs": [
    {
     "name": "stdout",
     "output_type": "stream",
     "text": [
      "<class 'str'>\n"
     ]
    }
   ],
   "source": [
    "print(type(userTicker))"
   ]
  },
  {
   "cell_type": "code",
   "execution_count": 4,
   "metadata": {},
   "outputs": [],
   "source": [
    "def get_previous_byday(dayname, start_date=None):\n",
    "    if start_date is None:\n",
    "        start_date = datetime.today()\n",
    "        day_num = start_date.weekday()\n",
    "        day_num_target = weekdays.index(dayname)\n",
    "        days_ago = (7 + day_num - day_num_target) % 7\n",
    "    if days_ago ==0 and start_date.hour >= 13:\n",
    "        return start_date\n",
    "    if days_ago == 0:\n",
    "        days_ago = 7\n",
    "    target_date = start_date - timedelta(days=days_ago)\n",
    "    return target_date"
   ]
  },
  {
   "cell_type": "code",
   "execution_count": 5,
   "metadata": {},
   "outputs": [
    {
     "name": "stdout",
     "output_type": "stream",
     "text": [
      "Ente the day name for market close ex :Friday\n"
     ]
    }
   ],
   "source": [
    "daynameTemp = str(input(\"Ente the day name for market close ex :\"))"
   ]
  },
  {
   "cell_type": "code",
   "execution_count": 6,
   "metadata": {
    "scrolled": false
   },
   "outputs": [
    {
     "name": "stdout",
     "output_type": "stream",
     "text": [
      "This is the target date: 2020-04-17 10:00:49.591804\n"
     ]
    }
   ],
   "source": [
    "print(\"This is the target date:\", get_previous_byday(daynameTemp))\n",
    "dateText = get_previous_byday(daynameTemp)"
   ]
  },
  {
   "cell_type": "raw",
   "metadata": {},
   "source": [
    "#endDate = datetime.strptime(dateText, srt('%Y-%M-%D'))"
   ]
  },
  {
   "cell_type": "code",
   "execution_count": 7,
   "metadata": {},
   "outputs": [],
   "source": [
    "myYear = str(dateText.year)\n",
    "myMonth = str(dateText.month)\n",
    "myDay = str(dateText.day)"
   ]
  },
  {
   "cell_type": "code",
   "execution_count": 8,
   "metadata": {},
   "outputs": [],
   "source": [
    "#endDate = (myYear+'-'+myMonth+'-'+myDay)"
   ]
  },
  {
   "cell_type": "code",
   "execution_count": 9,
   "metadata": {
    "scrolled": true
   },
   "outputs": [
    {
     "name": "stdout",
     "output_type": "stream",
     "text": [
      "2020\n",
      "4\n",
      "17\n"
     ]
    },
    {
     "data": {
      "text/plain": [
       "str"
      ]
     },
     "execution_count": 9,
     "metadata": {},
     "output_type": "execute_result"
    }
   ],
   "source": [
    "print(myYear)\n",
    "print(myMonth)\n",
    "print(myDay)\n",
    "type(myYear)"
   ]
  },
  {
   "cell_type": "code",
   "execution_count": 10,
   "metadata": {
    "scrolled": false
   },
   "outputs": [],
   "source": [
    "#SAGE=pdr.get_data_yahoo('SAGE',start=datetime(2015,2,11), end=datetime(2020,2,19))\n",
    "userDFTicker=pdr.get_data_yahoo(userTicker,start=datetime(2020,3,28), end=datetime(int(myYear),int(myMonth),int(myDay)))"
   ]
  },
  {
   "cell_type": "code",
   "execution_count": 11,
   "metadata": {},
   "outputs": [],
   "source": [
    "#SAGE=pdr.get_data_yahoo('SAGE',start=datetime(2018,2,13), end=datetime(int(myYear),int(myMonth),int(myDay)))"
   ]
  },
  {
   "cell_type": "code",
   "execution_count": 12,
   "metadata": {
    "scrolled": true
   },
   "outputs": [
    {
     "name": "stdout",
     "output_type": "stream",
     "text": [
      "<class 'str'>\n"
     ]
    }
   ],
   "source": [
    "print(type(userTicker))"
   ]
  },
  {
   "cell_type": "code",
   "execution_count": 13,
   "metadata": {
    "scrolled": false
   },
   "outputs": [
    {
     "data": {
      "text/html": [
       "<div>\n",
       "<style scoped>\n",
       "    .dataframe tbody tr th:only-of-type {\n",
       "        vertical-align: middle;\n",
       "    }\n",
       "\n",
       "    .dataframe tbody tr th {\n",
       "        vertical-align: top;\n",
       "    }\n",
       "\n",
       "    .dataframe thead th {\n",
       "        text-align: right;\n",
       "    }\n",
       "</style>\n",
       "<table border=\"1\" class=\"dataframe\">\n",
       "  <thead>\n",
       "    <tr style=\"text-align: right;\">\n",
       "      <th></th>\n",
       "      <th>High</th>\n",
       "      <th>Low</th>\n",
       "      <th>Open</th>\n",
       "      <th>Close</th>\n",
       "      <th>Volume</th>\n",
       "      <th>Adj Close</th>\n",
       "    </tr>\n",
       "  </thead>\n",
       "  <tbody>\n",
       "    <tr>\n",
       "      <td>count</td>\n",
       "      <td>14.000000</td>\n",
       "      <td>14.000000</td>\n",
       "      <td>14.000000</td>\n",
       "      <td>14.000000</td>\n",
       "      <td>1.400000e+01</td>\n",
       "      <td>14.000000</td>\n",
       "    </tr>\n",
       "    <tr>\n",
       "      <td>mean</td>\n",
       "      <td>22.010000</td>\n",
       "      <td>20.846429</td>\n",
       "      <td>21.133571</td>\n",
       "      <td>21.633572</td>\n",
       "      <td>2.218864e+07</td>\n",
       "      <td>21.633572</td>\n",
       "    </tr>\n",
       "    <tr>\n",
       "      <td>std</td>\n",
       "      <td>2.352822</td>\n",
       "      <td>2.145244</td>\n",
       "      <td>2.139686</td>\n",
       "      <td>2.456541</td>\n",
       "      <td>7.043040e+06</td>\n",
       "      <td>2.456541</td>\n",
       "    </tr>\n",
       "    <tr>\n",
       "      <td>min</td>\n",
       "      <td>19.170000</td>\n",
       "      <td>18.260000</td>\n",
       "      <td>18.410000</td>\n",
       "      <td>18.320000</td>\n",
       "      <td>1.159950e+07</td>\n",
       "      <td>18.320000</td>\n",
       "    </tr>\n",
       "    <tr>\n",
       "      <td>25%</td>\n",
       "      <td>20.420001</td>\n",
       "      <td>19.162499</td>\n",
       "      <td>19.335001</td>\n",
       "      <td>19.875000</td>\n",
       "      <td>1.760510e+07</td>\n",
       "      <td>19.875000</td>\n",
       "    </tr>\n",
       "    <tr>\n",
       "      <td>50%</td>\n",
       "      <td>20.879999</td>\n",
       "      <td>20.105000</td>\n",
       "      <td>20.495000</td>\n",
       "      <td>20.480000</td>\n",
       "      <td>1.981830e+07</td>\n",
       "      <td>20.480000</td>\n",
       "    </tr>\n",
       "    <tr>\n",
       "      <td>75%</td>\n",
       "      <td>24.680000</td>\n",
       "      <td>22.925000</td>\n",
       "      <td>23.205000</td>\n",
       "      <td>24.415000</td>\n",
       "      <td>2.760702e+07</td>\n",
       "      <td>24.415000</td>\n",
       "    </tr>\n",
       "    <tr>\n",
       "      <td>max</td>\n",
       "      <td>25.110001</td>\n",
       "      <td>24.360001</td>\n",
       "      <td>24.500000</td>\n",
       "      <td>25.000000</td>\n",
       "      <td>3.319920e+07</td>\n",
       "      <td>25.000000</td>\n",
       "    </tr>\n",
       "  </tbody>\n",
       "</table>\n",
       "</div>"
      ],
      "text/plain": [
       "            High        Low       Open      Close        Volume  Adj Close\n",
       "count  14.000000  14.000000  14.000000  14.000000  1.400000e+01  14.000000\n",
       "mean   22.010000  20.846429  21.133571  21.633572  2.218864e+07  21.633572\n",
       "std     2.352822   2.145244   2.139686   2.456541  7.043040e+06   2.456541\n",
       "min    19.170000  18.260000  18.410000  18.320000  1.159950e+07  18.320000\n",
       "25%    20.420001  19.162499  19.335001  19.875000  1.760510e+07  19.875000\n",
       "50%    20.879999  20.105000  20.495000  20.480000  1.981830e+07  20.480000\n",
       "75%    24.680000  22.925000  23.205000  24.415000  2.760702e+07  24.415000\n",
       "max    25.110001  24.360001  24.500000  25.000000  3.319920e+07  25.000000"
      ]
     },
     "execution_count": 13,
     "metadata": {},
     "output_type": "execute_result"
    }
   ],
   "source": [
    "userDFTicker.describe()"
   ]
  },
  {
   "cell_type": "code",
   "execution_count": 14,
   "metadata": {
    "scrolled": true
   },
   "outputs": [],
   "source": [
    "myFile = \"C:\\\\Users\\\\marma\\\\Documents\\\\investments\\\\csv\\\\\"+userTicker+\"_\"+myMonth+\"_\"+myDay+\".csv\"\n",
    "#SAGE.to_csv('C:\\\\Users\\\\c_marma\\\\Documents\\\\investments\\\\csv\\\\SAGE_02_19.csv')"
   ]
  },
  {
   "cell_type": "code",
   "execution_count": 15,
   "metadata": {
    "scrolled": true
   },
   "outputs": [
    {
     "name": "stdout",
     "output_type": "stream",
     "text": [
      "C:\\Users\\marma\\Documents\\investments\\csv\\GOLD_4_17.csv\n"
     ]
    }
   ],
   "source": [
    "print(myFile)"
   ]
  },
  {
   "cell_type": "code",
   "execution_count": 16,
   "metadata": {
    "scrolled": true
   },
   "outputs": [],
   "source": [
    "userDFTicker.to_csv(myFile)"
   ]
  },
  {
   "cell_type": "code",
   "execution_count": 17,
   "metadata": {
    "scrolled": false
   },
   "outputs": [
    {
     "data": {
      "text/html": [
       "<div>\n",
       "<style scoped>\n",
       "    .dataframe tbody tr th:only-of-type {\n",
       "        vertical-align: middle;\n",
       "    }\n",
       "\n",
       "    .dataframe tbody tr th {\n",
       "        vertical-align: top;\n",
       "    }\n",
       "\n",
       "    .dataframe thead th {\n",
       "        text-align: right;\n",
       "    }\n",
       "</style>\n",
       "<table border=\"1\" class=\"dataframe\">\n",
       "  <thead>\n",
       "    <tr style=\"text-align: right;\">\n",
       "      <th></th>\n",
       "      <th>High</th>\n",
       "      <th>Low</th>\n",
       "      <th>Open</th>\n",
       "      <th>Close</th>\n",
       "      <th>Volume</th>\n",
       "      <th>Adj Close</th>\n",
       "    </tr>\n",
       "    <tr>\n",
       "      <th>Date</th>\n",
       "      <th></th>\n",
       "      <th></th>\n",
       "      <th></th>\n",
       "      <th></th>\n",
       "      <th></th>\n",
       "      <th></th>\n",
       "    </tr>\n",
       "  </thead>\n",
       "  <tbody>\n",
       "    <tr>\n",
       "      <td>2020-03-30</td>\n",
       "      <td>19.629999</td>\n",
       "      <td>18.780001</td>\n",
       "      <td>19.200001</td>\n",
       "      <td>19.290001</td>\n",
       "      <td>22511900</td>\n",
       "      <td>19.290001</td>\n",
       "    </tr>\n",
       "    <tr>\n",
       "      <td>2020-03-31</td>\n",
       "      <td>19.170000</td>\n",
       "      <td>18.270000</td>\n",
       "      <td>18.860001</td>\n",
       "      <td>18.320000</td>\n",
       "      <td>19294400</td>\n",
       "      <td>18.320000</td>\n",
       "    </tr>\n",
       "    <tr>\n",
       "      <td>2020-04-01</td>\n",
       "      <td>19.180000</td>\n",
       "      <td>18.260000</td>\n",
       "      <td>18.410000</td>\n",
       "      <td>18.870001</td>\n",
       "      <td>18073100</td>\n",
       "      <td>18.870001</td>\n",
       "    </tr>\n",
       "    <tr>\n",
       "      <td>2020-04-02</td>\n",
       "      <td>20.629999</td>\n",
       "      <td>18.969999</td>\n",
       "      <td>19.100000</td>\n",
       "      <td>19.850000</td>\n",
       "      <td>24917600</td>\n",
       "      <td>19.850000</td>\n",
       "    </tr>\n",
       "    <tr>\n",
       "      <td>2020-04-03</td>\n",
       "      <td>20.370001</td>\n",
       "      <td>19.740000</td>\n",
       "      <td>19.740000</td>\n",
       "      <td>19.950001</td>\n",
       "      <td>14226600</td>\n",
       "      <td>19.950001</td>\n",
       "    </tr>\n",
       "  </tbody>\n",
       "</table>\n",
       "</div>"
      ],
      "text/plain": [
       "                 High        Low       Open      Close    Volume  Adj Close\n",
       "Date                                                                       \n",
       "2020-03-30  19.629999  18.780001  19.200001  19.290001  22511900  19.290001\n",
       "2020-03-31  19.170000  18.270000  18.860001  18.320000  19294400  18.320000\n",
       "2020-04-01  19.180000  18.260000  18.410000  18.870001  18073100  18.870001\n",
       "2020-04-02  20.629999  18.969999  19.100000  19.850000  24917600  19.850000\n",
       "2020-04-03  20.370001  19.740000  19.740000  19.950001  14226600  19.950001"
      ]
     },
     "execution_count": 17,
     "metadata": {},
     "output_type": "execute_result"
    }
   ],
   "source": [
    "userDFTicker.head()"
   ]
  },
  {
   "cell_type": "code",
   "execution_count": 18,
   "metadata": {
    "scrolled": false
   },
   "outputs": [],
   "source": [
    "f= pd.ExcelWriter('C:/Users/marma/Documents/investments/csv/'+userTicker+'_'+myMonth+'_'+myDay+'.xlsx', engine='xlsxwriter')"
   ]
  },
  {
   "cell_type": "code",
   "execution_count": 19,
   "metadata": {},
   "outputs": [],
   "source": [
    "userDFTicker.to_excel(f, sheet_name = userTicker)\n",
    "userDFTicker.to_excel(f, sheet_name = userTicker +\"B\")"
   ]
  },
  {
   "cell_type": "code",
   "execution_count": 20,
   "metadata": {
    "scrolled": false
   },
   "outputs": [],
   "source": [
    "f.save()"
   ]
  },
  {
   "cell_type": "code",
   "execution_count": 21,
   "metadata": {
    "scrolled": true
   },
   "outputs": [],
   "source": [
    "#Workbook = openpyxl.load_workbook('C:/Users/c_marma/Documents/PythonWebScrapingCookbook_Code/AutomateIt_Code/B05370_02_code/Oxl_IRA_alldata_'+myMonth+\"_\"+myDay+\".xlsx\")"
   ]
  },
  {
   "cell_type": "code",
   "execution_count": 22,
   "metadata": {},
   "outputs": [],
   "source": [
    "from openpyxl import Workbook\n",
    "workbook = openpyxl.load_workbook(f)"
   ]
  },
  {
   "cell_type": "code",
   "execution_count": 23,
   "metadata": {},
   "outputs": [],
   "source": [
    "sheetsUser = workbook.sheetnames\n",
    "sheetsUser"
   ]
  },
  {
   "cell_type": "code",
   "execution_count": 24,
   "metadata": {
    "scrolled": false
   },
   "outputs": [
    {
     "data": {
      "text/plain": [
       "['GOLD', 'GOLDB']"
      ]
     },
     "execution_count": 24,
     "metadata": {},
     "output_type": "execute_result"
    }
   ],
   "source": [
    "ws1 = workbook[userTicker]\n"
   ]
  },
  {
   "cell_type": "code",
   "execution_count": 25,
   "metadata": {
    "scrolled": true
   },
   "outputs": [],
   "source": [
    "#print (\"User sheet object:\", ws1)"
   ]
  },
  {
   "cell_type": "code",
   "execution_count": 26,
   "metadata": {},
   "outputs": [],
   "source": [
    "#tmpSheet = sheetsUser[0]\n",
    "#tmpSheet"
   ]
  },
  {
   "cell_type": "code",
   "execution_count": 27,
   "metadata": {},
   "outputs": [],
   "source": [
    "download_Ticker=myFile\n",
    "#download_SAGE='C:\\\\Users\\\\c_marma\\\\Documents\\\\investments\\\\csv\\\\SAGE_02_19.csv'"
   ]
  },
  {
   "cell_type": "code",
   "execution_count": 28,
   "metadata": {
    "scrolled": true
   },
   "outputs": [],
   "source": [
    "#print (\"First cell Object:\", ws1[\"A1\"])\n",
    "#print (\"Other Cell Object:\", ws1.cell(row=1, column=4))"
   ]
  },
  {
   "cell_type": "code",
   "execution_count": 29,
   "metadata": {
    "scrolled": true
   },
   "outputs": [
    {
     "name": "stdout",
     "output_type": "stream",
     "text": [
      "First cell Object: <Cell 'GOLD'.A1>\n",
      "Other Cell Object: <Cell 'GOLD'.C1>\n"
     ]
    }
   ],
   "source": [
    "print (\"First cell Object:\", ws1[\"A1\"])\n",
    "print (\"Other Cell Object:\", ws1.cell(row=1, column=3))"
   ]
  },
  {
   "cell_type": "code",
   "execution_count": 30,
   "metadata": {},
   "outputs": [
    {
     "name": "stdout",
     "output_type": "stream",
     "text": [
      "First Calander Date: 2020-03-30 00:00:00 19.6299991607666\n"
     ]
    }
   ],
   "source": [
    "print (\"First Calander Date:\", ws1[\"A2\"].value, ws1[\"B2\"].value)\n",
    "workbook.close()"
   ]
  },
  {
   "cell_type": "code",
   "execution_count": 31,
   "metadata": {
    "scrolled": false
   },
   "outputs": [
    {
     "name": "stdout",
     "output_type": "stream",
     "text": [
      "['Downloads']\n"
     ]
    }
   ],
   "source": [
    "#To convert a dataframe into a worksheet highlighting the header and index\n",
    "from openpyxl.utils.dataframe import dataframe_to_rows\n",
    "from openpyxl.cell.cell import WriteOnlyCell\n",
    "wb = Workbook(write_only=True)"
   ]
  },
  {
   "cell_type": "code",
   "execution_count": null,
   "metadata": {},
   "outputs": [],
   "source": [
    "#wb = openpyxl.load_workbook('C:/Users/marma/Documents/investments/Positions/buy-sell-colours_GOLD_v2.xlsx')\n",
    "wb = openpyxl.load_workbook('C:/Users/marma/Documents/investments/Positions/pandas_openpyxl.xlsx')\n",
    "print (wb.sheetnames)"
   ]
  },
  {
   "cell_type": "code",
   "execution_count": 33,
   "metadata": {},
   "outputs": [
    {
     "data": {
      "text/plain": [
       "<Worksheet \"Downloads\">"
      ]
     },
     "execution_count": 33,
     "metadata": {},
     "output_type": "execute_result"
    }
   ],
   "source": [
    "ws = wb[\"Downloads\"]\n",
    "ws"
   ]
  },
  {
   "cell_type": "code",
   "execution_count": 34,
   "metadata": {},
   "outputs": [],
   "source": [
    "#for r in dataframe_to_rows(userDFTicker, index=True, header=True):\n",
    "#    ws.append(r)\n",
    "\n",
    "#for cell in ws['A'] + ws[1]:\n",
    "#    cell.style = 'Pandas'"
   ]
  },
  {
   "cell_type": "code",
   "execution_count": 35,
   "metadata": {},
   "outputs": [],
   "source": [
    "cell = WriteOnlyCell(ws)\n",
    "cell.style = 'Pandas'\n",
    "\n",
    "def format_first_row(row, cell):\n",
    "    for c in row:\n",
    "        cell.value = c\n",
    "        yield cell\n",
    "\n",
    "rows = dataframe_to_rows(userDFTicker)\n",
    "first_row = format_first_row(next(rows), cell)\n",
    "ws.append(first_row)\n",
    "\n",
    "for row in rows:\n",
    "    row = list(row)\n",
    "    cell.value = row[0]\n",
    "    row[0] = cell\n",
    "    ws.append(row)"
   ]
  },
  {
   "cell_type": "code",
   "execution_count": 36,
   "metadata": {},
   "outputs": [],
   "source": [
    "wb.save('C:/Users/marma/Documents/investments/Positions/pandas_openpyxl.xlsx')"
   ]
  },
  {
   "cell_type": "code",
   "execution_count": null,
   "metadata": {
    "scrolled": true
   },
   "outputs": [],
   "source": [
    "#f = pd.ExcelWriter('C:\\\\Users\\\\c_marma\\\\Documents\\\\PythonWebScrapingCookbook_Code\\\\AutomateIt_Code\\\\B05370_02_code\\\\mynew.xlsx')"
   ]
  },
  {
   "cell_type": "code",
   "execution_count": null,
   "metadata": {},
   "outputs": [],
   "source": [
    "#SAGE.to_excel(f, index=False, sheet_name='Sheet3')"
   ]
  },
  {
   "cell_type": "code",
   "execution_count": null,
   "metadata": {},
   "outputs": [],
   "source": [
    "#f.save()"
   ]
  },
  {
   "cell_type": "code",
   "execution_count": null,
   "metadata": {},
   "outputs": [],
   "source": [
    "userDFTicker['Change']=userDFTicker.Open - userDFTicker.Close"
   ]
  },
  {
   "cell_type": "code",
   "execution_count": null,
   "metadata": {
    "scrolled": true
   },
   "outputs": [],
   "source": [
    "userDFTicker['Pct_Chg']=userDFTicker.Change/userDFTicker.Open"
   ]
  },
  {
   "cell_type": "code",
   "execution_count": null,
   "metadata": {},
   "outputs": [],
   "source": [
    "# bring in matplotlib for graphics\n",
    "import matplotlib.pyplot as plt\n",
    "%matplotlib inline\n",
    "# Set formattign options\n",
    "#pd.set_option('display.notebook_repr_html', False)\n",
    "#pd.set_option('display.max_columns', 7)\n",
    "#pd.set_option('display.max_rows', 10)\n",
    "#pd.set_option('display.width', 60)"
   ]
  },
  {
   "cell_type": "code",
   "execution_count": null,
   "metadata": {
    "scrolled": true
   },
   "outputs": [],
   "source": [
    "# create a time-series chart with a title and specific \n",
    "# x and y axis labels\n",
    "\n",
    "# title is set in the .plot() method as a parameter\n",
    "userDFTicker['Pct_Chg'].plot(title='Percent Change', grid=True)\n",
    "#userDFTicker['Pct_Chg'].plot(grid=True)\n",
    "# explicitly set the x and y axes labels after the .plot()\n",
    "plt.xlabel('Time')\n",
    "plt.ylabel('Percent Change');"
   ]
  },
  {
   "cell_type": "code",
   "execution_count": null,
   "metadata": {},
   "outputs": [],
   "source": [
    "#02_06"
   ]
  },
  {
   "cell_type": "code",
   "execution_count": null,
   "metadata": {},
   "outputs": [],
   "source": [
    "def get(tickers, startdate, enddate):\n",
    "    def data(ticker):\n",
    "        return(pdr.get_data_yahoo(ticker, start=startdate, end=enddate))\n",
    "    datas=map(data,tickers)\n",
    "    return(pd.concat(datas,keys=tickers,names=['Ticker','Date']))\n",
    "#tickers=['FDVV','TLT','SAGE','IEFA','GOLD','FCNTX','JGH','AAXJ','FREL','SINA','WRB','SNP','CHL','CMA','VLO','SANM','SLVP','HDV','T']\n",
    "#tickers=['FDVV','TLT','SAGE','IEFA','GOLD','FCNTX','JGH','AAXJ','WRB','SNP','CHL','CMA','VLO','SLVP','HDV','T']\n",
    "#all_data=get(tickers, datetime(2020,2,11), datetime(2020,2,19))\n",
    "\n",
    "fname = 'textfile.csv'\n",
    "if os.path.isfile(fname):\n",
    "#        print(\"File found\")\n",
    "    try:\n",
    "        fhand = open(fname)\n",
    "    except:\n",
    "        print('File cannot be opened:', fname)\n",
    "        exit()\n",
    "#count = 0\n",
    "tickers = list()\n",
    "for line in fhand:\n",
    "    line = line.rstrip()\n",
    "    tickers.append(line)\n",
    "all_data=get(tickers, datetime(2020,4,7), datetime(int(myYear),int(myMonth),int(myDay)))"
   ]
  },
  {
   "cell_type": "code",
   "execution_count": null,
   "metadata": {
    "scrolled": false
   },
   "outputs": [],
   "source": [
    "#all_data"
   ]
  },
  {
   "cell_type": "code",
   "execution_count": null,
   "metadata": {
    "scrolled": true
   },
   "outputs": [],
   "source": [
    "all_data.index"
   ]
  },
  {
   "cell_type": "code",
   "execution_count": null,
   "metadata": {},
   "outputs": [],
   "source": [
    "len(all_data.index)"
   ]
  },
  {
   "cell_type": "code",
   "execution_count": null,
   "metadata": {
    "scrolled": true
   },
   "outputs": [],
   "source": [
    "all_data.columns"
   ]
  },
  {
   "cell_type": "code",
   "execution_count": null,
   "metadata": {
    "scrolled": true
   },
   "outputs": [],
   "source": [
    "all_data.loc['GOLD':'GOLD', all_data.columns]"
   ]
  },
  {
   "cell_type": "code",
   "execution_count": null,
   "metadata": {
    "scrolled": true
   },
   "outputs": [],
   "source": [
    "# show that the columns are actually an index\n",
    "tickerTmp = all_data.loc['GOLD', all_data.columns]"
   ]
  },
  {
   "cell_type": "code",
   "execution_count": null,
   "metadata": {
    "scrolled": true
   },
   "outputs": [],
   "source": [
    "tickerTmp"
   ]
  },
  {
   "cell_type": "code",
   "execution_count": null,
   "metadata": {
    "scrolled": true
   },
   "outputs": [],
   "source": [
    "all_data.loc['GOLD'].describe()"
   ]
  },
  {
   "cell_type": "code",
   "execution_count": null,
   "metadata": {},
   "outputs": [],
   "source": [
    "#all_data.to_csv('C:\\\\Users\\\\c_marma\\\\Documents\\\\investments\\\\csv\\\\IRA_alldata_02_19.csv')"
   ]
  },
  {
   "cell_type": "code",
   "execution_count": null,
   "metadata": {},
   "outputs": [],
   "source": [
    "myFileAll = \"C:\\\\Users\\\\marma\\\\Documents\\\\investments\\\\csv\\\\IRA_\"+myMonth+\"_\"+myDay+\".csv\"\n",
    "#all_data = \"C:\\\\Users\\\\c_marma\\\\Documents\\\\investments\\\\csv\\\\IRA_alldata_02_19.csv\""
   ]
  },
  {
   "cell_type": "code",
   "execution_count": null,
   "metadata": {},
   "outputs": [],
   "source": [
    "all_data.to_csv(myFileAll)"
   ]
  },
  {
   "cell_type": "code",
   "execution_count": null,
   "metadata": {},
   "outputs": [],
   "source": [
    "print(myFileAll)"
   ]
  },
  {
   "cell_type": "code",
   "execution_count": null,
   "metadata": {},
   "outputs": [],
   "source": [
    "#download_all_data = ('C:\\\\Users\\\\c_marma\\\\Documents\\\\investments\\\\csv\\\\IRA_alldata_02_19.csv')\n",
    "download_all_data = (myFileAll)"
   ]
  },
  {
   "cell_type": "code",
   "execution_count": null,
   "metadata": {},
   "outputs": [],
   "source": [
    "f1= pd.ExcelWriter('C:/Users/marma/Documents/investments/csv/IRA_'+myMonth+'_'+myDay+'.xlsx')"
   ]
  },
  {
   "cell_type": "code",
   "execution_count": null,
   "metadata": {},
   "outputs": [],
   "source": [
    "all_data.to_excel(f1, sheet_name = \"IRA_ALL\")"
   ]
  },
  {
   "cell_type": "code",
   "execution_count": null,
   "metadata": {},
   "outputs": [],
   "source": [
    "f1.save()"
   ]
  },
  {
   "cell_type": "code",
   "execution_count": null,
   "metadata": {},
   "outputs": [],
   "source": [
    "workbook1 = openpyxl.load_workbook(f1)"
   ]
  },
  {
   "cell_type": "code",
   "execution_count": null,
   "metadata": {
    "scrolled": true
   },
   "outputs": [],
   "source": [
    "ws11 = workbook1[\"IRA_ALL\"]"
   ]
  },
  {
   "cell_type": "code",
   "execution_count": null,
   "metadata": {},
   "outputs": [],
   "source": [
    "print (\"User sheet object:\", ws11)"
   ]
  },
  {
   "cell_type": "code",
   "execution_count": null,
   "metadata": {},
   "outputs": [],
   "source": [
    "print (\"First cell Object:\", ws11[\"A1\"])\n",
    "print (\"Other Cell Object:\", ws11.cell(row=1, column=4))\n",
    "workbook1.close()"
   ]
  }
 ],
 "metadata": {
  "kernelspec": {
   "display_name": "Python 3",
   "language": "python",
   "name": "python3"
  },
  "language_info": {
   "codemirror_mode": {
    "name": "ipython",
    "version": 3
   },
   "file_extension": ".py",
   "mimetype": "text/x-python",
   "name": "python",
   "nbconvert_exporter": "python",
   "pygments_lexer": "ipython3",
   "version": "3.7.6"
  }
 },
 "nbformat": 4,
 "nbformat_minor": 2
}
