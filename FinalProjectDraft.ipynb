{
 "cells": [
  {
   "cell_type": "markdown",
   "metadata": {},
   "source": [
    "# Configuring pandas"
   ]
  },
  {
   "cell_type": "code",
   "execution_count": 1,
   "metadata": {
    "scrolled": true
   },
   "outputs": [
    {
     "name": "stderr",
     "output_type": "stream",
     "text": [
      "C:\\Users\\marma\\anaconda3\\lib\\site-packages\\ipykernel_launcher.py:5: FutureWarning: pandas.util.testing is deprecated. Use the functions in the public API at pandas.testing instead.\n",
      "  \"\"\"\n"
     ]
    }
   ],
   "source": [
    "# import numpy and pandas\n",
    "import numpy as np\n",
    "import pandas as pd\n",
    "import os.path\n",
    "from pandas.util.testing import assert_frame_equal\n",
    "import csv\n",
    "\n",
    "# used for handling dates\n",
    "import datetime\n",
    "from datetime import datetime, date,timedelta\n",
    "\n",
    "# bring in matplotlib for graphics\n",
    "import matplotlib.pyplot as plt\n",
    "%matplotlib inline\n",
    "\n",
    "# Set formattign options\n",
    "pd.set_option('display.notebook_repr_html', True)\n",
    "pd.set_option('display.max_columns', 7)\n",
    "pd.set_option('display.max_rows', 10)\n",
    "pd.set_option('display.width', 60)"
   ]
  },
  {
   "cell_type": "markdown",
   "metadata": {},
   "source": [
    "# Request ticker name from user and generate list of trading days"
   ]
  },
  {
   "cell_type": "code",
   "execution_count": 2,
   "metadata": {
    "scrolled": true
   },
   "outputs": [
    {
     "name": "stdout",
     "output_type": "stream",
     "text": [
      "Enter ticker name: GOLD\n",
      "<class 'str'>\n"
     ]
    }
   ],
   "source": [
    "userTicker = input(\"Enter ticker name: \")\n",
    "weekdays = ['Monday', 'Tuesday', 'Wednesday', 'Thursday', 'Friday']\n",
    "print(type(userTicker))"
   ]
  },
  {
   "cell_type": "code",
   "execution_count": 3,
   "metadata": {},
   "outputs": [
    {
     "name": "stdout",
     "output_type": "stream",
     "text": [
      "Ente the day name for market close ex :Friday\n"
     ]
    }
   ],
   "source": [
    "#Request the closing day name from user\n",
    "daynameTemp = str(input(\"Ente the day name for market close ex :\"))"
   ]
  },
  {
   "cell_type": "code",
   "execution_count": 4,
   "metadata": {},
   "outputs": [],
   "source": [
    "# Function to select trading day and return date in correct date format \n",
    "def get_previous_byday(dayname, start_date=None):\n",
    "    if start_date is None:\n",
    "        start_date = datetime.today()\n",
    "        day_num = start_date.weekday()\n",
    "        day_num_target = weekdays.index(dayname)\n",
    "        days_ago = (7 + day_num - day_num_target) % 7\n",
    "    if days_ago ==0 and start_date.hour >= 13:\n",
    "        return start_date\n",
    "    if days_ago == 0:\n",
    "        days_ago = 7\n",
    "    target_date = start_date - timedelta(days=days_ago)\n",
    "    return target_date"
   ]
  },
  {
   "cell_type": "code",
   "execution_count": 5,
   "metadata": {},
   "outputs": [
    {
     "name": "stdout",
     "output_type": "stream",
     "text": [
      "This is the target date: 2020-05-15 13:30:49.508276\n"
     ]
    }
   ],
   "source": [
    "#Display the target close date to user\n",
    "print(\"This is the target date:\", get_previous_byday(daynameTemp))\n",
    "dateText = get_previous_byday(daynameTemp)"
   ]
  },
  {
   "cell_type": "code",
   "execution_count": 6,
   "metadata": {},
   "outputs": [],
   "source": [
    "#Create Year, Month, Day date variable\n",
    "myYear = str(dateText.year)\n",
    "myMonth = str(dateText.month)\n",
    "myDay = str(dateText.day)"
   ]
  },
  {
   "cell_type": "markdown",
   "metadata": {},
   "source": [
    "# Input stock ticker names from a csv file"
   ]
  },
  {
   "cell_type": "code",
   "execution_count": 7,
   "metadata": {
    "scrolled": false
   },
   "outputs": [
    {
     "name": "stdout",
     "output_type": "stream",
     "text": [
      "File cannot be opened: textfile_pharma.csv\n"
     ]
    },
    {
     "ename": "NameError",
     "evalue": "name 'fhand' is not defined",
     "output_type": "error",
     "traceback": [
      "\u001b[1;31m---------------------------------------------------------------------------\u001b[0m",
      "\u001b[1;31mNameError\u001b[0m                                 Traceback (most recent call last)",
      "\u001b[1;32m<ipython-input-7-eba95aa77724>\u001b[0m in \u001b[0;36m<module>\u001b[1;34m\u001b[0m\n\u001b[0;32m     20\u001b[0m \u001b[1;33m\u001b[0m\u001b[0m\n\u001b[0;32m     21\u001b[0m \u001b[0mtickers\u001b[0m \u001b[1;33m=\u001b[0m \u001b[0mlist\u001b[0m\u001b[1;33m(\u001b[0m\u001b[1;33m)\u001b[0m\u001b[1;33m\u001b[0m\u001b[1;33m\u001b[0m\u001b[0m\n\u001b[1;32m---> 22\u001b[1;33m \u001b[1;32mfor\u001b[0m \u001b[0mline\u001b[0m \u001b[1;32min\u001b[0m \u001b[0mfhand\u001b[0m\u001b[1;33m:\u001b[0m\u001b[1;33m\u001b[0m\u001b[1;33m\u001b[0m\u001b[0m\n\u001b[0m\u001b[0;32m     23\u001b[0m     \u001b[0mline\u001b[0m \u001b[1;33m=\u001b[0m \u001b[0mline\u001b[0m\u001b[1;33m.\u001b[0m\u001b[0mrstrip\u001b[0m\u001b[1;33m(\u001b[0m\u001b[1;33m)\u001b[0m\u001b[1;33m\u001b[0m\u001b[1;33m\u001b[0m\u001b[0m\n\u001b[0;32m     24\u001b[0m     \u001b[1;32mif\u001b[0m \u001b[0mlen\u001b[0m\u001b[1;33m(\u001b[0m\u001b[0mline\u001b[0m\u001b[1;33m)\u001b[0m \u001b[1;33m==\u001b[0m \u001b[1;36m0\u001b[0m \u001b[1;33m:\u001b[0m \u001b[1;32mcontinue\u001b[0m\u001b[1;33m\u001b[0m\u001b[1;33m\u001b[0m\u001b[0m\n",
      "\u001b[1;31mNameError\u001b[0m: name 'fhand' is not defined"
     ]
    }
   ],
   "source": [
    "#CSV file is read from current working directory\n",
    "#Import os to use abs file path\n",
    "import os\n",
    "\n",
    "#user current dir\n",
    "cwd = os.getcwd()\n",
    "\n",
    "new_u_file = 'textfile_pharma.csv'\n",
    "\n",
    "#complete path file\n",
    "abs_file_path = os.path.join(cwd,new_u_file)\n",
    "\n",
    "if os.path.isfile(abs_file_path):\n",
    "    print(\"File found\")\n",
    "try:\n",
    "    fhand = open(abs_file_path, 'r')\n",
    "except:\n",
    "    print('File cannot be opened:', new_u_file)\n",
    "    #exit()\n",
    "\n",
    "tickers = list()\n",
    "for line in fhand:\n",
    "    line = line.rstrip()\n",
    "    if len(line) == 0 : continue\n",
    "    tickers.append(line)"
   ]
  },
  {
   "cell_type": "code",
   "execution_count": null,
   "metadata": {},
   "outputs": [],
   "source": [
    "print(tickers)"
   ]
  },
  {
   "cell_type": "markdown",
   "metadata": {},
   "source": [
    "# Obtaining and organizing stock data from Yahoo Finance using pandas datareader"
   ]
  },
  {
   "cell_type": "code",
   "execution_count": 8,
   "metadata": {},
   "outputs": [],
   "source": [
    "# import data reader package\n",
    "import pandas_datareader as pdr\n",
    "\n",
    "#def get(tickers, startdate, enddate):\n",
    "#    def data(ticker):\n",
    "#        return(pdr.get_data_yahoo(ticker, start=startdate, end=enddate))\n",
    "#    datas=map(data,tickers)\n",
    "#    return(pd.concat(datas,keys=tickers,names=['Ticker','Date']))\n",
    "#all_data=get(tickers, datetime(2020,4,7), datetime(int(myYear),int(myMonth),int(myDay)))"
   ]
  },
  {
   "cell_type": "code",
   "execution_count": 9,
   "metadata": {},
   "outputs": [],
   "source": [
    "# read data from Yahoo! Finance for a specific \n",
    "# stock specified by ticker and between the start and end dates\n",
    "def get_stock_data(ticker, start, end):\n",
    "#    # read the data\n",
    "    data = pdr.get_data_yahoo(ticker, start, end)\n",
    "    # rename this column\n",
    "#    data.insert(0, \"Ticker\", ticker)\n",
    "    return data"
   ]
  },
  {
   "cell_type": "code",
   "execution_count": 10,
   "metadata": {
    "scrolled": true
   },
   "outputs": [
    {
     "name": "stdout",
     "output_type": "stream",
     "text": [
      "2020-05-15 00:00:00\n"
     ]
    }
   ],
   "source": [
    "# request the three years of data for SAGE\n",
    "start = datetime(2020, 4, 11)\n",
    "end = datetime(int(myYear),int(myMonth),int(myDay))\n",
    "#raw = get_stock_data(userTicker, start, end)[:5]\n",
    "raw = get_stock_data(userTicker, start, end)\n",
    "print(end)"
   ]
  },
  {
   "cell_type": "code",
   "execution_count": 11,
   "metadata": {
    "scrolled": false
   },
   "outputs": [
    {
     "data": {
      "text/html": [
       "<div>\n",
       "<style scoped>\n",
       "    .dataframe tbody tr th:only-of-type {\n",
       "        vertical-align: middle;\n",
       "    }\n",
       "\n",
       "    .dataframe tbody tr th {\n",
       "        vertical-align: top;\n",
       "    }\n",
       "\n",
       "    .dataframe thead th {\n",
       "        text-align: right;\n",
       "    }\n",
       "</style>\n",
       "<table border=\"1\" class=\"dataframe\">\n",
       "  <thead>\n",
       "    <tr style=\"text-align: right;\">\n",
       "      <th></th>\n",
       "      <th>High</th>\n",
       "      <th>Low</th>\n",
       "      <th>Open</th>\n",
       "      <th>Close</th>\n",
       "      <th>Volume</th>\n",
       "      <th>Adj Close</th>\n",
       "    </tr>\n",
       "  </thead>\n",
       "  <tbody>\n",
       "    <tr>\n",
       "      <th>count</th>\n",
       "      <td>25.000000</td>\n",
       "      <td>25.000000</td>\n",
       "      <td>25.000000</td>\n",
       "      <td>25.000000</td>\n",
       "      <td>2.500000e+01</td>\n",
       "      <td>25.000000</td>\n",
       "    </tr>\n",
       "    <tr>\n",
       "      <th>mean</th>\n",
       "      <td>26.742800</td>\n",
       "      <td>25.518400</td>\n",
       "      <td>25.966400</td>\n",
       "      <td>26.244000</td>\n",
       "      <td>2.003979e+07</td>\n",
       "      <td>26.244000</td>\n",
       "    </tr>\n",
       "    <tr>\n",
       "      <th>std</th>\n",
       "      <td>1.239928</td>\n",
       "      <td>1.368015</td>\n",
       "      <td>1.517006</td>\n",
       "      <td>1.167197</td>\n",
       "      <td>5.931074e+06</td>\n",
       "      <td>1.167197</td>\n",
       "    </tr>\n",
       "    <tr>\n",
       "      <th>min</th>\n",
       "      <td>24.650000</td>\n",
       "      <td>22.250000</td>\n",
       "      <td>22.500000</td>\n",
       "      <td>24.370001</td>\n",
       "      <td>1.274080e+07</td>\n",
       "      <td>24.370001</td>\n",
       "    </tr>\n",
       "    <tr>\n",
       "      <th>25%</th>\n",
       "      <td>25.469999</td>\n",
       "      <td>24.360001</td>\n",
       "      <td>24.500000</td>\n",
       "      <td>25.000000</td>\n",
       "      <td>1.683540e+07</td>\n",
       "      <td>25.000000</td>\n",
       "    </tr>\n",
       "    <tr>\n",
       "      <th>50%</th>\n",
       "      <td>27.100000</td>\n",
       "      <td>25.920000</td>\n",
       "      <td>26.469999</td>\n",
       "      <td>26.549999</td>\n",
       "      <td>1.804800e+07</td>\n",
       "      <td>26.549999</td>\n",
       "    </tr>\n",
       "    <tr>\n",
       "      <th>75%</th>\n",
       "      <td>27.670000</td>\n",
       "      <td>26.570000</td>\n",
       "      <td>27.219999</td>\n",
       "      <td>27.100000</td>\n",
       "      <td>2.080960e+07</td>\n",
       "      <td>27.100000</td>\n",
       "    </tr>\n",
       "    <tr>\n",
       "      <th>max</th>\n",
       "      <td>28.500000</td>\n",
       "      <td>27.250000</td>\n",
       "      <td>27.930000</td>\n",
       "      <td>28.190001</td>\n",
       "      <td>3.319920e+07</td>\n",
       "      <td>28.190001</td>\n",
       "    </tr>\n",
       "  </tbody>\n",
       "</table>\n",
       "</div>"
      ],
      "text/plain": [
       "            High        Low       Open      Close  \\\n",
       "count  25.000000  25.000000  25.000000  25.000000   \n",
       "mean   26.742800  25.518400  25.966400  26.244000   \n",
       "std     1.239928   1.368015   1.517006   1.167197   \n",
       "min    24.650000  22.250000  22.500000  24.370001   \n",
       "25%    25.469999  24.360001  24.500000  25.000000   \n",
       "50%    27.100000  25.920000  26.469999  26.549999   \n",
       "75%    27.670000  26.570000  27.219999  27.100000   \n",
       "max    28.500000  27.250000  27.930000  28.190001   \n",
       "\n",
       "             Volume  Adj Close  \n",
       "count  2.500000e+01  25.000000  \n",
       "mean   2.003979e+07  26.244000  \n",
       "std    5.931074e+06   1.167197  \n",
       "min    1.274080e+07  24.370001  \n",
       "25%    1.683540e+07  25.000000  \n",
       "50%    1.804800e+07  26.549999  \n",
       "75%    2.080960e+07  27.100000  \n",
       "max    3.319920e+07  28.190001  "
      ]
     },
     "execution_count": 11,
     "metadata": {},
     "output_type": "execute_result"
    }
   ],
   "source": [
    "raw.describe()"
   ]
  },
  {
   "cell_type": "markdown",
   "metadata": {},
   "source": [
    "# CSV file write and read for Statistical Modeling function from Victor"
   ]
  },
  {
   "cell_type": "code",
   "execution_count": 12,
   "metadata": {},
   "outputs": [],
   "source": [
    "#Hard coded file name to use for csv output file\n",
    "myFile = \"C:\\\\Users\\\\marma\\\\Documents\\\\investments\\\\csv\\\\\"+userTicker+\"_\"+myMonth+\"_\"+myDay+\".csv\""
   ]
  },
  {
   "cell_type": "code",
   "execution_count": 13,
   "metadata": {},
   "outputs": [
    {
     "name": "stdout",
     "output_type": "stream",
     "text": [
      "C:\\Users\\marma\\Documents\\investments\\csv\\GOLD_5_15.csv\n"
     ]
    }
   ],
   "source": [
    "print(myFile)"
   ]
  },
  {
   "cell_type": "code",
   "execution_count": 14,
   "metadata": {
    "scrolled": true
   },
   "outputs": [],
   "source": [
    "raw.to_csv(myFile)"
   ]
  },
  {
   "cell_type": "code",
   "execution_count": 15,
   "metadata": {},
   "outputs": [],
   "source": [
    "#Read back csv file data by column index\n",
    "y = pd.read_csv(myFile, index_col = 0)"
   ]
  },
  {
   "cell_type": "code",
   "execution_count": 16,
   "metadata": {},
   "outputs": [],
   "source": [
    "#Extract 'Adj Close' column\n",
    "d = y[['Adj Close']]"
   ]
  },
  {
   "cell_type": "code",
   "execution_count": 17,
   "metadata": {},
   "outputs": [
    {
     "name": "stdout",
     "output_type": "stream",
     "text": [
      "            Adj Close\n",
      "Date                 \n",
      "2020-04-13  24.370001\n",
      "2020-04-14  24.430000\n",
      "2020-04-15  24.469999\n",
      "2020-04-16  25.000000\n",
      "2020-04-17  24.540001\n",
      "...               ...\n",
      "2020-05-11  26.020000\n",
      "2020-05-12  26.040001\n",
      "2020-05-13  26.120001\n",
      "2020-05-14  27.139999\n",
      "2020-05-15  28.040001\n",
      "\n",
      "[25 rows x 1 columns]\n"
     ]
    }
   ],
   "source": [
    "print(d)"
   ]
  },
  {
   "cell_type": "code",
   "execution_count": 18,
   "metadata": {},
   "outputs": [],
   "source": [
    "# gets data for multiple stocks\n",
    "# tickers: a list of stock symbols to fetch\n",
    "# start and end are the start end end dates\n",
    "#def get_data_for_multiple_stocks(tmptickers, start, end):\n",
    "    # we return a dictionary\n",
    " #   stocks = dict()\n",
    "    # loop through all the tickers\n",
    " #   for ticker in tmptickers:\n",
    " #       # get the data for the specific ticker\n",
    " #       s = get_stock_data(ticker, start, end)\n",
    "        # add it to the dictionary\n",
    "#        stocks[ticker] = s\n",
    "    # return the dictionary\n",
    "#    return stocks"
   ]
  },
  {
   "cell_type": "code",
   "execution_count": 19,
   "metadata": {
    "scrolled": false
   },
   "outputs": [
    {
     "name": "stdout",
     "output_type": "stream",
     "text": [
      "[]\n"
     ]
    }
   ],
   "source": [
    "# get the data for all the stocks that we want\n",
    "print(tickers)\n",
    "#raw = get_data_for_multiple_stocks(tickers, start, end)"
   ]
  },
  {
   "cell_type": "code",
   "execution_count": 20,
   "metadata": {
    "scrolled": true
   },
   "outputs": [],
   "source": [
    "# take a peek at the data for SAGE\n",
    "#raw[userTicker][:5]\n",
    "#raw[userTicker]"
   ]
  },
  {
   "cell_type": "markdown",
   "metadata": {},
   "source": [
    "# Work with a single ticker since read in list is currupting the dataframe -generate time-series chart"
   ]
  },
  {
   "cell_type": "code",
   "execution_count": 21,
   "metadata": {
    "scrolled": true
   },
   "outputs": [],
   "source": [
    "#Open close change\n",
    "raw['Change']=raw.Open - raw.Close"
   ]
  },
  {
   "cell_type": "code",
   "execution_count": 22,
   "metadata": {},
   "outputs": [],
   "source": [
    "raw['Pct_Chg']=raw.Change/raw.Open"
   ]
  },
  {
   "cell_type": "code",
   "execution_count": 23,
   "metadata": {
    "scrolled": true
   },
   "outputs": [
    {
     "data": {
      "image/png": "[encoded data removed]",
      "text/plain": [
       "<Figure size 432x288 with 1 Axes>"
      ]
     },
     "metadata": {
      "needs_background": "light"
     },
     "output_type": "display_data"
    }
   ],
   "source": [
    "# create a time-series chart with a title and specific \n",
    "# x and y axis labels\n",
    "\n",
    "# title is set in the .plot() method as a parameter\n",
    "raw['Pct_Chg'].plot(title='Percent Change', grid=True)\n",
    "#userPDTicker['Pct_Chg'].plot(grid=True)\n",
    "# explicitly set the x and y axes labels after the .plot()\n",
    "plt.xlabel('Time')\n",
    "plt.ylabel('Percent Change');"
   ]
  },
  {
   "cell_type": "code",
   "execution_count": null,
   "metadata": {},
   "outputs": [],
   "source": [
    "# given the dictionary of data frames,\n",
    "# pivots a given column into values with column\n",
    "# names being the stock symbols\n",
    "def pivot_tickers_to_columns(raw, column):\n",
    "    items = []\n",
    "    # loop through all dictionary keys\n",
    "    for key in raw:\n",
    "        # get the data for the key\n",
    "        data = raw[key]\n",
    "        # extract just the column specified\n",
    "        subset = data[[\"Ticker\", column]]\n",
    "        # add to items\n",
    "        items.append(subset)\n",
    "    \n",
    "    # concatenate all the items\n",
    "    combined = pd.concat(items)\n",
    "    # reset the index\n",
    "    ri = combined.reset_index()\n",
    "    # return the pivot\n",
    "    return ri.pivot(\"Date\", \"Ticker\", column)"
   ]
  },
  {
   "cell_type": "code",
   "execution_count": null,
   "metadata": {
    "scrolled": true
   },
   "outputs": [],
   "source": [
    "# do the pivot\n",
    "close_px = pivot_tickers_to_columns(raw, \"Close\")\n",
    "# peek at the result\n",
    "close_px[:5]"
   ]
  },
  {
   "cell_type": "markdown",
   "metadata": {},
   "source": [
    "# Plotting time-series prices"
   ]
  },
  {
   "cell_type": "code",
   "execution_count": null,
   "metadata": {},
   "outputs": [],
   "source": [
    "# plot the closing prices of SAGE\n",
    "close_px[userTicker].plot();"
   ]
  },
  {
   "cell_type": "code",
   "execution_count": null,
   "metadata": {
    "scrolled": true
   },
   "outputs": [],
   "source": [
    "# plot the closing prices of INO\n",
    "#close_px[userTicker].plot();"
   ]
  },
  {
   "cell_type": "code",
   "execution_count": null,
   "metadata": {},
   "outputs": [],
   "source": [
    "# plot MSFT vs AAPL on the same chart\n",
    "#close_px[['SAGE', userTicke]].plot();"
   ]
  },
  {
   "cell_type": "raw",
   "metadata": {},
   "source": [
    "# Plotting volume series data"
   ]
  },
  {
   "cell_type": "code",
   "execution_count": null,
   "metadata": {},
   "outputs": [],
   "source": [
    "# pivot the volume data into columns\n",
    "volumes = pivot_tickers_to_columns(raw, \"Volume\")\n",
    "volumes.tail()"
   ]
  },
  {
   "cell_type": "code",
   "execution_count": null,
   "metadata": {},
   "outputs": [],
   "source": [
    "# plot the volume for MSFT\n",
    "userTicker_volume = volumes[[userTicker]]\n",
    "plt.bar(INO_volume.index, userTicker_volume[userTicker])\n",
    "plt.gcf().set_size_inches(15,8)"
   ]
  },
  {
   "cell_type": "code",
   "execution_count": null,
   "metadata": {},
   "outputs": [],
   "source": [
    "# draw the price history on the top\n",
    "top = plt.subplot2grid((4,4), (0, 0), rowspan=3, colspan=4)\n",
    "top.plot(close_px['userTicke'].index, close_px['userTicke'], \n",
    "         label='userTicke Close')\n",
    "plt.title('userTicke Close Price 2012 - 2014')\n",
    "plt.legend(loc=2)\n",
    "\n",
    "# and the volume along the bottom\n",
    "bottom = plt.subplot2grid((4,4), (3,0), rowspan=1, colspan=4)\n",
    "bottom.bar(userTicke_volume.index, userTicke_volume['userTicke'])\n",
    "plt.title('userTicke Trading Volume 2012 - 2014')\n",
    "plt.subplots_adjust(hspace=0.75)\n",
    "plt.gcf().set_size_inches(15,8)"
   ]
  },
  {
   "cell_type": "markdown",
   "metadata": {},
   "source": [
    "# Calculating simple daily percentage change"
   ]
  },
  {
   "cell_type": "code",
   "execution_count": null,
   "metadata": {},
   "outputs": [],
   "source": [
    "# calculate daily percentage change\n",
    "daily_pc = close_px / close_px.shift(1) - 1\n",
    "daily_pc[:5]"
   ]
  },
  {
   "cell_type": "code",
   "execution_count": null,
   "metadata": {},
   "outputs": [],
   "source": [
    "# check the percentage on 2012-01-05\n",
    "close_px.loc['2017-01-05'][userTicke] / \\\n",
    "    close_px.loc['2017-01-04'][userTicke] -1"
   ]
  },
  {
   "cell_type": "code",
   "execution_count": null,
   "metadata": {
    "scrolled": true
   },
   "outputs": [],
   "source": [
    "# plot daily percentage change for INO\n",
    "daily_pc[userTicke].plot();"
   ]
  },
  {
   "cell_type": "markdown",
   "metadata": {},
   "source": [
    "# Calculating simple daily cumulative returns"
   ]
  },
  {
   "cell_type": "code",
   "execution_count": null,
   "metadata": {},
   "outputs": [],
   "source": [
    "# calculate daily cumulative return\n",
    "daily_cr = (1 + daily_pc).cumprod()\n",
    "daily_cr[:5]"
   ]
  },
  {
   "cell_type": "code",
   "execution_count": null,
   "metadata": {
    "scrolled": false
   },
   "outputs": [],
   "source": [
    "# plot all the cumulative returns to get an idea \n",
    "# of the relative performance of all the stocks\n",
    "daily_cr.plot(figsize=(16,6))\n",
    "plt.legend(loc=2);"
   ]
  },
  {
   "cell_type": "markdown",
   "metadata": {},
   "source": [
    "# Resampling data from daily to monthly returns"
   ]
  },
  {
   "cell_type": "code",
   "execution_count": null,
   "metadata": {},
   "outputs": [],
   "source": [
    "# resample to end of month and forward fill values\n",
    "monthly = close_px.asfreq('M').ffill()\n",
    "monthly[:5]"
   ]
  },
  {
   "cell_type": "code",
   "execution_count": null,
   "metadata": {},
   "outputs": [],
   "source": [
    "# calculate the monthly percentage changes\n",
    "monthly_pc = monthly / monthly.shift(1) - 1\n",
    "monthly_pc[:5]"
   ]
  },
  {
   "cell_type": "code",
   "execution_count": null,
   "metadata": {},
   "outputs": [],
   "source": [
    "# calculate monthly cumulative return\n",
    "monthly_cr = (1 + monthly_pc).cumprod()\n",
    "monthly_cr[:5]"
   ]
  },
  {
   "cell_type": "code",
   "execution_count": null,
   "metadata": {
    "scrolled": true
   },
   "outputs": [],
   "source": [
    "# plot the monthly cumulative returns\n",
    "monthly_cr.plot(figsize=(16,6))\n",
    "plt.legend(loc=2);"
   ]
  },
  {
   "cell_type": "markdown",
   "metadata": {},
   "source": [
    "# Analyzing distribution of returns"
   ]
  },
  {
   "cell_type": "code",
   "execution_count": null,
   "metadata": {},
   "outputs": [],
   "source": [
    "# histogram of the daily percentage change for AAPL\n",
    "aapl = daily_pc[userTicke]\n",
    "aapl.hist(bins=50);"
   ]
  },
  {
   "cell_type": "code",
   "execution_count": null,
   "metadata": {
    "scrolled": true
   },
   "outputs": [],
   "source": [
    "# matrix of all stocks daily % changes histograms\n",
    "daily_pc.hist(bins=50, figsize=(16,6));"
   ]
  },
  {
   "cell_type": "markdown",
   "metadata": {},
   "source": [
    "# Performing moving average calculation"
   ]
  },
  {
   "cell_type": "code",
   "execution_count": null,
   "metadata": {},
   "outputs": [],
   "source": [
    "# extract just INO close\n",
    "INO_close = close_px[[userTicke]][userTicke]\n",
    "# calculate the 30 and 90 day rolling means\n",
    "ma_30 = INO_close.rolling(window=30).mean()\n",
    "ma_90 = INO_close.rolling(window=90).mean()\n",
    "# compose into a DataFrame that can be plotted\n",
    "result = pd.DataFrame({'Close': INO_close, \n",
    "                       '30_MA_Close': ma_30,\n",
    "                       '90_MA_Close': ma_90})\n",
    "# plot all the series against each other\n",
    "result.plot(title=\"INO Close Price\")\n",
    "plt.gcf().set_size_inches(15,8)\n",
    "result"
   ]
  },
  {
   "cell_type": "markdown",
   "metadata": {},
   "source": [
    "# Comparision of average daily returns across stocks"
   ]
  },
  {
   "cell_type": "code",
   "execution_count": null,
   "metadata": {},
   "outputs": [],
   "source": [
    "# plot the daily percentage change of MSFT vs AAPL\n",
    "plt.scatter(daily_pc[userTicke], daily_pc['SAGE'])\n",
    "plt.xlabel(userTicke)\n",
    "plt.ylabel('SAGE');"
   ]
  },
  {
   "cell_type": "code",
   "execution_count": null,
   "metadata": {},
   "outputs": [],
   "source": [
    "# demonstrate perfect correlation\n",
    "plt.scatter(daily_pc[userTicke], daily_pc[userTicke]);"
   ]
  },
  {
   "cell_type": "code",
   "execution_count": null,
   "metadata": {
    "scrolled": false
   },
   "outputs": [],
   "source": [
    "#from pandas.plotting import scatter_matrix\n",
    "from pandas.plotting._misc import scatter_matrix\n",
    "# plot the scatter of daily price changed for ALL stocks\n",
    "scatter_matrix(daily_pc, diagonal='kde', figsize=(14,12));"
   ]
  },
  {
   "cell_type": "markdown",
   "metadata": {},
   "source": [
    "# Correlation of stocks based upon daily percentage change of closing price"
   ]
  },
  {
   "cell_type": "code",
   "execution_count": null,
   "metadata": {},
   "outputs": [],
   "source": [
    "# calculate the correlation between all the stocks relative\n",
    "# to daily percentage change\n",
    "corrs = daily_pc.corr()\n",
    "corrs"
   ]
  },
  {
   "cell_type": "code",
   "execution_count": null,
   "metadata": {
    "scrolled": true
   },
   "outputs": [],
   "source": [
    "# plot a heatmap of the correlations\n",
    "plt.imshow(corrs, cmap='hot', interpolation='none')\n",
    "plt.colorbar()\n",
    "plt.xticks(range(len(corrs)), corrs.columns)\n",
    "plt.yticks(range(len(corrs)), corrs.columns)\n",
    "plt.gcf().set_size_inches(12,10)"
   ]
  },
  {
   "cell_type": "markdown",
   "metadata": {},
   "source": [
    "# Volatility"
   ]
  },
  {
   "cell_type": "code",
   "execution_count": null,
   "metadata": {
    "scrolled": true
   },
   "outputs": [],
   "source": [
    "# 75 period minimum\n",
    "min_periods = 75\n",
    "# calculate the volatility\n",
    "vol = daily_pc.rolling(window=min_periods).std() * \\\n",
    "        np.sqrt(min_periods)\n",
    "# plot  \n",
    "vol.plot(figsize=(16, 8));"
   ]
  },
  {
   "cell_type": "markdown",
   "metadata": {},
   "source": [
    "# Determining risk relative to expected returns"
   ]
  },
  {
   "cell_type": "code",
   "execution_count": null,
   "metadata": {
    "scrolled": true
   },
   "outputs": [],
   "source": [
    "# generate a scatter of the mean vs std of daily % change\n",
    "plt.scatter(daily_pc.mean(), daily_pc.std())\n",
    "plt.xlabel('Expected returns')\n",
    "plt.ylabel('Risk')\n",
    "\n",
    "# this adds fancy labels to each dot, with an arrow too\n",
    "for label, x, y in zip(daily_pc.columns, \n",
    "                       daily_pc.mean(), \n",
    "                       daily_pc.std()):\n",
    "    plt.annotate(\n",
    "        label, \n",
    "        xy = (x, y), xytext = (30, -30),\n",
    "        textcoords = 'offset points', ha = 'right', \n",
    "        va = 'bottom',\n",
    "        bbox = dict(boxstyle = 'round,pad=0.5', \n",
    "                    fc = 'yellow', \n",
    "                    alpha = 0.5),\n",
    "        arrowprops = dict(arrowstyle = '->', \n",
    "                          connectionstyle = 'arc3,rad=0'))\n",
    "\n",
    "# set ranges and scales for good presentation\n",
    "plt.xlim(-0.001, 0.003)\n",
    "plt.ylim(0.005, 0.0600)\n",
    "\n",
    "# set size\n",
    "plt.gcf().set_size_inches(10,8)"
   ]
  },
  {
   "cell_type": "code",
   "execution_count": null,
   "metadata": {},
   "outputs": [],
   "source": []
  },
  {
   "cell_type": "code",
   "execution_count": null,
   "metadata": {},
   "outputs": [],
   "source": []
  }
 ],
 "metadata": {
  "kernelspec": {
   "display_name": "Python 3",
   "language": "python",
   "name": "python3"
  },
  "language_info": {
   "codemirror_mode": {
    "name": "ipython",
    "version": 3
   },
   "file_extension": ".py",
   "mimetype": "text/x-python",
   "name": "python",
   "nbconvert_exporter": "python",
   "pygments_lexer": "ipython3",
   "version": "3.7.6"
  }
 },
 "nbformat": 4,
 "nbformat_minor": 1
}
