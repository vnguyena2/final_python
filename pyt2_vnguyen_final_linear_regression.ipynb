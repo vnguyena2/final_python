{
 "cells": [
  {
   "cell_type": "code",
   "execution_count": 27,
   "metadata": {},
   "outputs": [],
   "source": [
    "import numpy as np\n",
    "import pandas as pd\n",
    "from sklearn.linear_model import LinearRegression\n",
    "from sklearn.preprocessing import PolynomialFeatures\n",
    "import matplotlib.pyplot as plt\n",
    "\n",
    "'''\n",
    "Note: these were testing function left for archiving\n",
    "def test():\n",
    "    x = np.array([5, 15, 25, 35, 45, 55])\n",
    "    y = np.array([5, 20, 14, 32, 22, 38])\n",
    "    return x, y\n",
    "\n",
    "def arrary_test():\n",
    "    x = np.array([5, 15, 25, 35, 45, 55])\n",
    "    y = np.array([5, 20, 14, 32, 22, 38])\n",
    "    data = y\n",
    "    df = pd.DataFrame(data, index = x)\n",
    "    x1 = df.index.values\n",
    "    y1 = df.values\n",
    "    y2 = list()\n",
    "    for n in y1:\n",
    "        for m in n:\n",
    "            y2.append(m)\n",
    "    y2 = np.array(y2)\n",
    "    return x1, y2\n",
    "'''\n",
    "\n",
    "#takes a dateframe and returns two arrays, index_setting = 0 means two columns from df. 1 means index + column\n",
    "#warning, you need a index and a single column for 1, or only two colums(index ok) for 0 or code will not work\n",
    "def dataframe_to_array(df, index_setting):\n",
    "    #if data is in a colum and an index\n",
    "    if index_setting == 1:\n",
    "        #get the index from the dataframe\n",
    "        x1 = df.index.values\n",
    "        #get the values from the dataframe, gives and array of arrays\n",
    "        y1 = df.values\n",
    "        y2 = list()\n",
    "        #transfrom the array of arrays into a single array\n",
    "        for n in y1:\n",
    "            for m in n:\n",
    "                y2.append(m)\n",
    "        y2 = np.array(y2)\n",
    "        #return\n",
    "        return x1, y2\n",
    "    #if data in is two columns\n",
    "    else:\n",
    "        #turn dataframe into and array of arrays\n",
    "        set_array = df.to_numpy()\n",
    "        #splits array into two arrays of a single array\n",
    "        bisector = np.array_split(set_array, 2)\n",
    "        count = 0\n",
    "        #define x1 and y1\n",
    "        for n in bisector:\n",
    "            if count == 0:\n",
    "                x1 = n\n",
    "                count += 1\n",
    "            else:\n",
    "                y1 = n\n",
    "        #reverts back array of array into a just an array\n",
    "        for n2 in x1:\n",
    "            x1 = n2\n",
    "        for n3 in y1:\n",
    "            y1 = n3\n",
    "        #return\n",
    "        return x1, y1\n",
    "\n",
    "#turns a csv file into a dataframe\n",
    "#warning, not tested if it works\n",
    "def csv_into_dataframe(csv_file):\n",
    "    df = pd.read_csv(csv_file)\n",
    "    return df\n",
    "\n",
    "#builds a fuction that returns a predicted y, x1 and y1 are arrays, power refers to highest polynomial degree in model\n",
    "#Note: this function is outdated now\n",
    "def predict_dependent(x1, y1, power):\n",
    "    #build a sorted array for ploting later\n",
    "    x2 = x1\n",
    "    np.sort(x2)\n",
    "    #reshape the x1 and x2 arrays to work for linear regression fitting\n",
    "    x1 = x1.reshape((-1,1))\n",
    "    x2 = x2.reshape((-1,1))\n",
    "    #determine a model type\n",
    "    if power > 1 and power % 1 == 0:\n",
    "        #rebulid again to work with polynomial modeling\n",
    "        x1_ = PolynomialFeatures(degree=power, include_bias=False).fit_transform(x1)\n",
    "        model = LinearRegression().fit(x1_, y1)\n",
    "        x2_ = PolynomialFeatures(degree=power, include_bias=False).fit_transform(x2)\n",
    "        #build predictive array\n",
    "        prediction = model.predict(x2_)\n",
    "    #linear is default\n",
    "    else:\n",
    "        #bulids a model using two arrays\n",
    "        model = LinearRegression().fit(x1,y1)\n",
    "        prediction = model.predict(x2)\n",
    "    #return, note that both x2 and prediction are in order\n",
    "    return prediction\n",
    "\n",
    "#take in a set and return a set with the sorted x and new predicted y, power refers to highest polynomial degree in model\n",
    "#Note: this function is outdated now\n",
    "def regression_transform(x1, y1, power):\n",
    "    #build a model\n",
    "    x2 = x1\n",
    "    np.sort(x2)\n",
    "    x3 = x2\n",
    "    x1 = x1.reshape((-1,1))\n",
    "    x2 = x2.reshape((-1,1))\n",
    "    #x3 is to have a x2_ that is not modified for polynomial features for indexing\n",
    "    #this next part is slimilar to predict_dependent()\n",
    "    if power > 1 and power % 1 == 0:\n",
    "        x1_ = PolynomialFeatures(degree=power, include_bias=False).fit_transform(x1)\n",
    "        model = LinearRegression().fit(x1_, y1)\n",
    "        x2_ = PolynomialFeatures(degree=power, include_bias=False).fit_transform(x2)\n",
    "        y2 = model.predict(x2_)\n",
    "    else:\n",
    "        model = LinearRegression().fit(x1,y1)\n",
    "        y2 = model.predict(x2)\n",
    "    data = y2\n",
    "    #bulid a dataframe with y2 as data and x3 as an index\n",
    "    set_rebuild = pd.DataFrame(data, index = x3)\n",
    "    #returns the dataset\n",
    "    return set_rebuild \n",
    "\n",
    "#scores how well the model fits that data with a R^2 score, with is from 0 to 1\n",
    "def prediction_score(x1, y1, power):\n",
    "    #slimilar structure as above, but no need to organize\n",
    "    x1 = x1.reshape((-1,1))\n",
    "    if power > 1 and power % 1 == 0:\n",
    "        x1_ = PolynomialFeatures(degree=power, include_bias=False).fit_transform(x1)\n",
    "        model = LinearRegression().fit(x1_, y1)\n",
    "        #model.score returns a R^2 value, which rates fit from 0 to 1\n",
    "        score = model.score(x1_, y1)\n",
    "    else:\n",
    "        model = LinearRegression().fit(x1,y1)\n",
    "        score = model.score(x1, y1)\n",
    "    #return\n",
    "    return score\n",
    "\n",
    "#this is the primary function every is built up to, first three are same as above, next three build prediction range\n",
    "def ranged_regress_transform(x1, y1, power, value_min, value_max, step):\n",
    "    count = value_min\n",
    "    x2 = list()\n",
    "    #create list that starts at min, ends a max, step effects how many calculations are done\n",
    "    while count <= value_max:\n",
    "        x2.append(count)\n",
    "        count += step\n",
    "    #change the list into an array\n",
    "    x3 = np.array(x2)\n",
    "    x3 = x3.reshape((-1,1))\n",
    "    x1 = x1.reshape((-1,1))\n",
    "    #also slimilar to above code\n",
    "    if power > 1 and power % 1 == 0:\n",
    "        x1_ = PolynomialFeatures(degree=power, include_bias=False).fit_transform(x1)\n",
    "        model = LinearRegression().fit(x1_, y1)\n",
    "        x3_ = PolynomialFeatures(degree=power, include_bias=False).fit_transform(x3)\n",
    "        y2 = model.predict(x3_)\n",
    "    else:\n",
    "        model = LinearRegression().fit(x1,y1)\n",
    "        y2 = model.predict(x3)\n",
    "    data = y2\n",
    "    #build the dataframe with good graphing data\n",
    "    new_build = pd.DataFrame(data, index = x2)\n",
    "    #return the dataframe\n",
    "    return new_build\n",
    "\n",
    "#uses all of the above code, takes a dataframe and returns a dataframe with predicted values\n",
    "def ranged_df_regress_trans(df, index_setting, power, value_min, value_max, step):\n",
    "    x1, y1 = dataframe_to_array(df, index_setting)\n",
    "    final_build = ranged_regress_transform(x1, y1, power, value_min, value_max, step)\n",
    "    return final_build\n",
    "\n",
    "#same as above with with scoring\n",
    "def df_regress_scoring(df, index_setting, power):\n",
    "    x1, y1 = dataframe_to_array(df, index_setting)\n",
    "    score = prediction_score(x1, y1, power)\n",
    "    return score"
   ]
  },
  {
   "cell_type": "code",
   "execution_count": 28,
   "metadata": {
    "scrolled": true
   },
   "outputs": [
    {
     "name": "stdout",
     "output_type": "stream",
     "text": [
      "[ 5  6  7  8  9 10 11 12 13 14 15 16 17 18 19 20 21 22 23 24 25 26 27 28\n",
      " 29 30 31 32 33 34 35 36 37 38 39 40 41 42 43 44 45 46 47 48 49 50 51 52\n",
      " 53 54 55] [ 5.48412698  7.06837698  8.54336508  9.91348016 11.18311111 12.35664683\n",
      " 13.43847619 14.4329881  15.34457143 16.17761508 16.93650794 17.62563889\n",
      " 18.24939683 18.81217063 19.31834921 19.77232143 20.17847619 20.54120238\n",
      " 20.86488889 21.1539246  21.41269841 21.64559921 21.85701587 22.0513373\n",
      " 22.23295238 22.40625    22.57561905 22.74544841 22.92012698 23.10404365\n",
      " 23.3015873  23.51714683 23.75511111 24.01986905 24.31580952 24.64732143\n",
      " 25.01879365 25.43461508 25.8991746  26.41686111 26.99206349 27.62917063\n",
      " 28.33257143 29.10665476 29.95580952 30.8844246  31.89688889 32.99759127\n",
      " 34.19092063 35.48126587 36.87301587]\n"
     ]
    },
    {
     "data": {
      "image/png": "[encoded data removed]",
      "text/plain": [
       "<Figure size 432x288 with 1 Axes>"
      ]
     },
     "metadata": {
      "needs_background": "light"
     },
     "output_type": "display_data"
    }
   ],
   "source": [
    "x = np.array([5, 15, 25, 35, 45, 55])\n",
    "y = np.array([5, 20, 14, 32, 22, 38])\n",
    "a = np.array([1,2,3,4,5,6])\n",
    "b = np.array([3,5,9,14,21,34])\n",
    "run = ranged_regress_transform(x, y, 3, 5, 55, 1)\n",
    "run.plot()\n",
    "running, ran = dataframe_to_array(run, 1)\n",
    "print(running, ran)"
   ]
  },
  {
   "cell_type": "code",
   "execution_count": 29,
   "metadata": {},
   "outputs": [
    {
     "name": "stdout",
     "output_type": "stream",
     "text": [
      "The score is: 0.7665364017947605\n"
     ]
    },
    {
     "data": {
      "text/plain": [
       "<matplotlib.axes._subplots.AxesSubplot at 0x6c6ce88>"
      ]
     },
     "execution_count": 29,
     "metadata": {},
     "output_type": "execute_result"
    },
    {
     "data": {
      "image/png": "[encoded data removed]",
      "text/plain": [
       "<Figure size 432x288 with 1 Axes>"
      ]
     },
     "metadata": {
      "needs_background": "light"
     },
     "output_type": "display_data"
    }
   ],
   "source": [
    "x = np.array([5, 15, 25, 35, 45, 55])\n",
    "y = np.array([5, 20, 14, 32, 22, 38])\n",
    "data = y\n",
    "df = pd.DataFrame(data, index = x)\n",
    "final_test = ranged_df_regress_trans(df, 1, 3, 5, 55, 1)\n",
    "print(\"The score is:\", df_regress_scoring(df, 1, 3))\n",
    "final_test.plot()"
   ]
  },
  {
   "cell_type": "code",
   "execution_count": null,
   "metadata": {},
   "outputs": [],
   "source": []
  }
 ],
 "metadata": {
  "kernelspec": {
   "display_name": "Python 3",
   "language": "python",
   "name": "python3"
  }
 },
 "nbformat": 4,
 "nbformat_minor": 4
}
